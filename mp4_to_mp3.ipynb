{
  "nbformat": 4,
  "nbformat_minor": 0,
  "metadata": {
    "colab": {
      "provenance": []
    },
    "kernelspec": {
      "name": "python3",
      "display_name": "Python 3"
    },
    "language_info": {
      "name": "python"
    }
  },
  "cells": [
    {
      "cell_type": "code",
      "execution_count": null,
      "metadata": {
        "colab": {
          "base_uri": "https://localhost:8080/"
        },
        "id": "3OkfG3rj7Lcy",
        "outputId": "debab18e-1017-4d3e-dd7a-9aee6afeb5a1"
      },
      "outputs": [
        {
          "output_type": "execute_result",
          "data": {
            "text/plain": [
              "CompletedProcess(args=['ffmpeg', '-i', '/content/input.mp4', '-q:a', '0', '-map', 'a', 'output.mp3'], returncode=0)"
            ]
          },
          "metadata": {},
          "execution_count": 1
        }
      ],
      "source": [
        "import subprocess\n",
        "\n",
        "input_file = \"/content/input.mp4\"\n",
        "output_file = \"output.mp3\"\n",
        "\n",
        "command = [\"ffmpeg\", \"-i\", input_file, \"-q:a\", \"0\", \"-map\", \"a\", output_file]\n",
        "subprocess.run(command, check=True)\n"
      ]
    },
    {
      "cell_type": "code",
      "source": [],
      "metadata": {
        "id": "uAO4E1u78C86"
      },
      "execution_count": null,
      "outputs": []
    }
  ]
}