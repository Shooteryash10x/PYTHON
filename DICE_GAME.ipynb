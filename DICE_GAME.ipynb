{
 "cells": [
  {
   "cell_type": "markdown",
   "id": "d5a96385-49e3-4d2f-9fbe-dca36814244f",
   "metadata": {},
   "source": [
    "#DICE GAME"
   ]
  },
  {
   "cell_type": "code",
   "execution_count": 1,
   "id": "a414cbff-fa1e-4ec1-b2df-68ca19c03a1b",
   "metadata": {},
   "outputs": [
    {
     "name": "stdout",
     "output_type": "stream",
     "text": [
      "Welcome to the Dice Guessing Game!\n",
      "Guess a number between 1 and 6.\n"
     ]
    },
    {
     "name": "stdin",
     "output_type": "stream",
     "text": [
      "Your guess:  6\n"
     ]
    },
    {
     "name": "stdout",
     "output_type": "stream",
     "text": [
      "Wrong guess. The dice showed 4.\n"
     ]
    },
    {
     "name": "stdin",
     "output_type": "stream",
     "text": [
      "Play again? (yes/no):  YES\n",
      "Your guess:  6\n"
     ]
    },
    {
     "name": "stdout",
     "output_type": "stream",
     "text": [
      "Wrong guess. The dice showed 5.\n"
     ]
    },
    {
     "name": "stdin",
     "output_type": "stream",
     "text": [
      "Play again? (yes/no):  YES\n",
      "Your guess:  6\n"
     ]
    },
    {
     "name": "stdout",
     "output_type": "stream",
     "text": [
      "Wrong guess. The dice showed 2.\n"
     ]
    },
    {
     "name": "stdin",
     "output_type": "stream",
     "text": [
      "Play again? (yes/no):  NO\n"
     ]
    },
    {
     "name": "stdout",
     "output_type": "stream",
     "text": [
      "Goodbye!\n"
     ]
    }
   ],
   "source": [
    "import random\n",
    "\n",
    "print(\"Welcome to the Dice Guessing Game!\")\n",
    "print(\"Guess a number between 1 and 6.\")\n",
    "\n",
    "while True:\n",
    "    guess = input(\"Your guess: \")\n",
    "    dice = random.randint(1, 6)\n",
    "\n",
    "    if guess == str(dice):\n",
    "        print(\"You guessed it right! 🎉\")\n",
    "    else:\n",
    "        print(f\"Wrong guess. The dice showed {dice}.\")\n",
    "\n",
    "    play_again = input(\"Play again? (yes/no): \")\n",
    "    if play_again.lower() != \"yes\":\n",
    "        print(\"Goodbye!\")\n",
    "        break\n"
   ]
  },
  {
   "cell_type": "code",
   "execution_count": null,
   "id": "4db50f38-06e9-4589-8c10-b4cb24853f75",
   "metadata": {},
   "outputs": [],
   "source": []
  }
 ],
 "metadata": {
  "kernelspec": {
   "display_name": "Python 3 (ipykernel)",
   "language": "python",
   "name": "python3"
  },
  "language_info": {
   "codemirror_mode": {
    "name": "ipython",
    "version": 3
   },
   "file_extension": ".py",
   "mimetype": "text/x-python",
   "name": "python",
   "nbconvert_exporter": "python",
   "pygments_lexer": "ipython3",
   "version": "3.11.7"
  }
 },
 "nbformat": 4,
 "nbformat_minor": 5
}
