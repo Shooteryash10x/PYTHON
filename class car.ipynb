{
 "cells": [
  {
   "cell_type": "code",
   "execution_count": 13,
   "id": "44a705e5-6d02-4863-8852-f6e339486276",
   "metadata": {},
   "outputs": [
    {
     "name": "stdout",
     "output_type": "stream",
     "text": [
      "Car Info: 2024 black mahindra scorpio\n",
      "Mileage: 14 km/l\n",
      "Is the car running? No\n",
      "The car is now running.\n",
      "The car has accelerated. Current speed is 100 km/h.\n",
      "The car has accelerated. Current speed is 140 km/h.\n",
      "The car has decelerated. Current speed is 100 km/h.\n",
      "The car has stopped.\n",
      "Car Info: 2024 black mahindra scorpio\n",
      "Mileage: 14 km/l\n",
      "Is the car running? No\n"
     ]
    }
   ],
   "source": [
    "# Define the Car class\n",
    "class Car:\n",
    "    # Constructor to initialize the car object\n",
    "    def __init__(self, make, model, year, color):\n",
    "        self.make = make\n",
    "        self.model = model\n",
    "        self.year = year\n",
    "        self.color = color\n",
    "        self.speed = 0  # Initial speed of the car is 0\n",
    "        self.mileage = 14 # (in kilometers/litre)\n",
    "        self.running = False  # The car is initially not running\n",
    "\n",
    "    # Method to display car information\n",
    "    def display_info(self):\n",
    "        print(f\"Car Info: {self.year} {self.color} {self.make} {self.model}\")\n",
    "        print(f\"Mileage: {self.mileage} km/l\")\n",
    "        print(f\"Is the car running? {'Yes' if self.running else 'No'}\")\n",
    "\n",
    "    # Method to start the car\n",
    "    def start_car(self):\n",
    "        self.running = True\n",
    "        print(\"The car is now running.\")\n",
    "\n",
    "    # Method to stop the car\n",
    "    def stop_car(self):\n",
    "        self.running = False\n",
    "        self.speed = 0  # When the car stops, the speed is reset to 0\n",
    "        print(\"The car has stopped.\")\n",
    "\n",
    "    # Method to accelerate the car\n",
    "    def accelerate(self, increment):\n",
    "        if self.running:\n",
    "            self.speed += increment\n",
    "            print(f\"The car has accelerated. Current speed is {self.speed} km/h.\")\n",
    "        else:\n",
    "            print(\"Start the car first before accelerating.\")\n",
    "\n",
    "    # Method to decelerate the car\n",
    "    def decelerate(self, decrement):\n",
    "        if self.running:\n",
    "            if self.speed - decrement >= 0:\n",
    "                self.speed -= decrement\n",
    "                print(f\"The car has decelerated. Current speed is {self.speed} km/h.\")\n",
    "            else:\n",
    "                print(\"The car cannot decelerate below 0 km/h.\")\n",
    "        else:\n",
    "            print(\"Start the car first before decelerating.\")\n",
    "\n",
    "# Create a car object\n",
    "my_car = Car(\"mahindra\", \"scorpio\", 2024, \"black\")\n",
    "\n",
    "# Display car info\n",
    "my_car.display_info()\n",
    "\n",
    "# Start the car and perform actions\n",
    "my_car.start_car()\n",
    "my_car.accelerate(100)\n",
    "my_car.accelerate(40)\n",
    "my_car.decelerate(40)\n",
    "my_car.stop_car()\n",
    "\n",
    "# Final car info\n",
    "my_car.display_info()\n"
   ]
  },
  {
   "cell_type": "code",
   "execution_count": null,
   "id": "6601144a-0a54-440b-9db7-d0894f8e5c2e",
   "metadata": {},
   "outputs": [],
   "source": []
  }
 ],
 "metadata": {
  "kernelspec": {
   "display_name": "Python 3 (ipykernel)",
   "language": "python",
   "name": "python3"
  },
  "language_info": {
   "codemirror_mode": {
    "name": "ipython",
    "version": 3
   },
   "file_extension": ".py",
   "mimetype": "text/x-python",
   "name": "python",
   "nbconvert_exporter": "python",
   "pygments_lexer": "ipython3",
   "version": "3.11.7"
  }
 },
 "nbformat": 4,
 "nbformat_minor": 5
}
