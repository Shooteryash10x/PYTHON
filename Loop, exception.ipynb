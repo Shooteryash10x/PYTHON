{
 "cells": [
  {
   "cell_type": "markdown",
   "id": "60f15e14",
   "metadata": {},
   "source": [
    "# While Loop"
   ]
  },
  {
   "cell_type": "markdown",
   "id": "6ae5a7b5",
   "metadata": {},
   "source": [
    "### A while loop in Python repeats a code block while an expression is true.\n",
    "### An expression follows that evaluates to true or false.\n",
    "### The indented statement after the expression is the loop body.\n",
    "### The body repeats while the expression is true.\n",
    "### The expression checks the loop condition."
   ]
  },
  {
   "cell_type": "code",
   "execution_count": null,
   "id": "0e7a1468",
   "metadata": {},
   "outputs": [],
   "source": [
    "# Infinite loop\n",
    "i=0\n",
    "while True:\n",
    "    print(i)\n",
    "    i+=1"
   ]
  },
  {
   "cell_type": "code",
   "execution_count": null,
   "id": "5dbd3ec5",
   "metadata": {},
   "outputs": [],
   "source": [
    "# Loop with predefined condition\n",
    "\n",
    "count = 2\n",
    "while count < 5:\n",
    "    count =+ 1\n",
    "    print(\"Count:\", count)\n",
    "    \n"
   ]
  },
  {
   "cell_type": "code",
   "execution_count": null,
   "id": "570ccb1b",
   "metadata": {},
   "outputs": [],
   "source": [
    "# breaking a loop\n",
    "\n",
    "count = 0\n",
    "while True:\n",
    "    print(\"Count:\", count)\n",
    "    count += 1\n",
    "    if count == 4:\n",
    "        break  \n"
   ]
  },
  {
   "cell_type": "code",
   "execution_count": null,
   "id": "b5265fda",
   "metadata": {},
   "outputs": [],
   "source": [
    "# Continue statement\n",
    "\n",
    "count = 0\n",
    "while count < 5:\n",
    "    \n",
    "    count += 1\n",
    "    if count == 3:\n",
    "        continue  \n",
    "print(\"Count:\", count)\n"
   ]
  },
  {
   "cell_type": "code",
   "execution_count": null,
   "id": "8ffee869",
   "metadata": {},
   "outputs": [],
   "source": [
    "# else with while loop\n",
    "\n",
    "count = 0\n",
    "while count < 3:\n",
    "    print(\"Count:\", count)\n",
    "    count += 1\n",
    "else:\n",
    "    print(\"Loop ended normally\")\n"
   ]
  },
  {
   "cell_type": "code",
   "execution_count": null,
   "id": "a74a7895",
   "metadata": {},
   "outputs": [],
   "source": [
    "# error handeling\n",
    "\n",
    "x = 0\n",
    "while x < 3:\n",
    "    try:\n",
    "        num = int(input(\"Enter a number: \"))  # If input is not a number, it will raise a ValueError\n",
    "        print(f\"You entered: {num}\")\n",
    "        x += 1\n",
    "    except ValueError:\n",
    "        print(\"Invalid input! Please enter a valid number.\")\n"
   ]
  },
  {
   "cell_type": "code",
   "execution_count": null,
   "id": "20bbce05",
   "metadata": {},
   "outputs": [],
   "source": [
    "# Nesting\n",
    "\n",
    "i = 1\n",
    "while i <= 3:\n",
    "    j = 1\n",
    "    while j <= 2:\n",
    "        print(f\"i = {i}, j = {j}\")\n",
    "        j += 1\n",
    "    i += 1\n"
   ]
  },
  {
   "cell_type": "markdown",
   "id": "4ab1c029",
   "metadata": {},
   "source": [
    "# Exception (Error) handeling\n",
    "\n",
    "\n",
    "\n",
    "Built-in Exceptions:\n",
    "\n",
    "__ValueError__: Raised when a function receives an argument of the correct type but with an inappropriate value.\\\n",
    "__TypeError__: Raised when an operation is performed on an object of an inappropriate type.\\\n",
    "__ZeroDivisionError__: Raised when a division or modulo operation is attempted with a divisor of zero.\\\n",
    "__NameError__: Raised when a variable or function name is not found in the current scope.\\\n",
    "__IndexError__: Raised when an index is out of range for a list, tuple, or string.   \\\n",
    "__KeyError__: Raised when a key is not found in a dictionary.\\\n",
    "__AttributeError__: Raised when an attribute is not found in an object.\\\n",
    "__ImportError__: Raised when an imported module cannot be found.\\\n",
    "__SyntaxError__: Raised when the Python code is syntactically incorrect.\\\n",
    "__IndentationError__: Raised when there is an indentation error in the code.\\\n",
    "__TabError__: Raised when there is a mix of tabs and spaces for indentation.\\\n",
    "__IOError__: Raised when an input/output operation fails.\\\n",
    "__FileNotFoundError__: Raised when a file is not found.\\\n",
    "__EOFError__: Raised when a file is read beyond its end.\\\n",
    "__KeyboardInterrupt__: Raised when the user interrupts the program execution.\\\n",
    "__SystemExit__: Raised when the Python interpreter exits."
   ]
  },
  {
   "cell_type": "code",
   "execution_count": null,
   "id": "d62c0417",
   "metadata": {},
   "outputs": [],
   "source": [
    "try:\n",
    "    \n",
    "     \n",
    "except:\n",
    "  \n",
    "else:\n",
    "      \n",
    "finally:\n",
    "    "
   ]
  },
  {
   "cell_type": "code",
   "execution_count": null,
   "id": "8aac1aa3",
   "metadata": {},
   "outputs": [],
   "source": [
    "try:\n",
    "    print(unknown_variable)  # This variable is not defined\n",
    "except NameError:\n",
    "    print(\"Variable is not defined!\")\n"
   ]
  },
  {
   "cell_type": "code",
   "execution_count": null,
   "id": "52f4f115",
   "metadata": {},
   "outputs": [],
   "source": [
    "print(unknown_variable)"
   ]
  },
  {
   "cell_type": "code",
   "execution_count": null,
   "id": "46ea03fc",
   "metadata": {},
   "outputs": [],
   "source": [
    "# capture Multiple error\n",
    "\n",
    "def divide(x, y):\n",
    "    try:\n",
    "        result = 10 / 0\n",
    "    except ZeroDivisionError:\n",
    "        divide(10, 1)\n",
    "    except TypeError:\n",
    "        print(\"Inputs must be numbers.\")\n",
    "    except Exception as e:\n",
    "        print(\"An unexpected error occurred:\", type(e), e)\n",
    "    else:\n",
    "        print(\"Result:\", result)\n",
    "    finally:\n",
    "        print(\"I always get executed !\\n\")\n",
    "\n",
    "\n",
    "divide(10, 2)  \n",
    "divide(10, 0)  \n",
    "divide(\"10\", 2)  "
   ]
  },
  {
   "cell_type": "code",
   "execution_count": 8,
   "id": "f24490c4",
   "metadata": {},
   "outputs": [
    {
     "name": "stdout",
     "output_type": "stream",
     "text": [
      "name 'x' is not defined\n"
     ]
    }
   ],
   "source": [
    "# Capture error type\n",
    "\n",
    "try:\n",
    "    print(x) \n",
    "except Exception as e:\n",
    "    print(e)\n"
   ]
  },
  {
   "cell_type": "code",
   "execution_count": null,
   "id": "c3ae50c0",
   "metadata": {},
   "outputs": [],
   "source": [
    "i=[1,2,3,4,5,6]\n",
    "\n",
    "it=iter(i)\n",
    "try:\n",
    "    while it:\n",
    "        print(next(it))\n",
    "except:\n",
    "    pass"
   ]
  },
  {
   "cell_type": "markdown",
   "id": "7ec23c51",
   "metadata": {},
   "source": [
    "# Dictionaries\n",
    "\n",
    "### Dictionaries are ORDERED\\\n",
    "### Dictionary keys must be immutable objects (e.g., strings, numbers, tuples).\\\n",
    "### Dictionary values can be of any data type.\\\n",
    "### Dictionaries are efficient for looking up values by key.\n",
    "### UNIQUE KEY\n",
    "### "
   ]
  },
  {
   "cell_type": "code",
   "execution_count": 1,
   "id": "f83fd0c7-a7cd-42b4-8e46-7c70906cd9bd",
   "metadata": {},
   "outputs": [],
   "source": [
    "inv={\"Name\":\"abc\", \"Age\":30}"
   ]
  },
  {
   "cell_type": "code",
   "execution_count": 2,
   "id": "432a71d1-1e0a-470d-bb61-683af622918f",
   "metadata": {},
   "outputs": [
    {
     "data": {
      "text/plain": [
       "{'Name': 'abc', 'Age': 30}"
      ]
     },
     "execution_count": 2,
     "metadata": {},
     "output_type": "execute_result"
    }
   ],
   "source": [
    "inv"
   ]
  },
  {
   "cell_type": "code",
   "execution_count": 3,
   "id": "be32aad7-bb19-463c-8dc7-c078537271b9",
   "metadata": {},
   "outputs": [
    {
     "data": {
      "text/plain": [
       "30"
      ]
     },
     "execution_count": 3,
     "metadata": {},
     "output_type": "execute_result"
    }
   ],
   "source": [
    "inv[\"Age\"]"
   ]
  },
  {
   "cell_type": "code",
   "execution_count": 4,
   "id": "ddd81c0f-fb98-4a2c-9cf7-b454c407101e",
   "metadata": {},
   "outputs": [
    {
     "name": "stdout",
     "output_type": "stream",
     "text": [
      "Name abc\n",
      "Age 30\n"
     ]
    }
   ],
   "source": [
    "for key, val in inv.items():\n",
    "    print(key,val)"
   ]
  },
  {
   "cell_type": "code",
   "execution_count": null,
   "id": "2c457ccf-425d-4c70-980c-cc6304742902",
   "metadata": {},
   "outputs": [],
   "source": []
  },
  {
   "cell_type": "code",
   "execution_count": null,
   "id": "8a672385",
   "metadata": {},
   "outputs": [],
   "source": [
    "# Empty dictionaries\n",
    "\n",
    "dict1={}"
   ]
  },
  {
   "cell_type": "code",
   "execution_count": 41,
   "id": "900d9f0d",
   "metadata": {},
   "outputs": [],
   "source": [
    "# imputing values in dictionary in form of key-value\n",
    "\n",
    "student = {\"First Dict\":{\"Univeristy\": \"GEU\", \"Age\": (25,30), \"grade\": \"A\", \"Univeristy\": \"xyz\"},\n",
    "          \"Sec Dict\":{\"Univeristy\": \"GEU\", \"Age\": 35, \"grade\": \"A\", \"Univeristy\": \"xyz\"}}"
   ]
  },
  {
   "cell_type": "code",
   "execution_count": 43,
   "id": "a6b8c0be",
   "metadata": {},
   "outputs": [
    {
     "data": {
      "text/plain": [
       "25"
      ]
     },
     "execution_count": 43,
     "metadata": {},
     "output_type": "execute_result"
    }
   ],
   "source": [
    "student[\"First Dict\"]['Age'][0]"
   ]
  },
  {
   "cell_type": "code",
   "execution_count": 33,
   "id": "6cc2dd40",
   "metadata": {},
   "outputs": [
    {
     "data": {
      "text/plain": [
       "{'Fist Dict': {'Univeristy': 'xyz', 'Age': 40, 'grade': 'A'},\n",
       " 'Sec Dict': {'Univeristy': 'xyz', 'Age': 35, 'grade': 'A'}}"
      ]
     },
     "execution_count": 33,
     "metadata": {},
     "output_type": "execute_result"
    }
   ],
   "source": [
    "student"
   ]
  },
  {
   "cell_type": "code",
   "execution_count": 19,
   "id": "79ccf277",
   "metadata": {},
   "outputs": [],
   "source": [
    "st1 = {(1,2):\"At\"}"
   ]
  },
  {
   "cell_type": "code",
   "execution_count": null,
   "id": "cca2ad68",
   "metadata": {},
   "outputs": [],
   "source": [
    "# accessing keys\n",
    "\n",
    "student['Univeristy']"
   ]
  },
  {
   "cell_type": "code",
   "execution_count": 11,
   "id": "80bb631f",
   "metadata": {},
   "outputs": [
    {
     "data": {
      "text/plain": [
       "25"
      ]
     },
     "execution_count": 11,
     "metadata": {},
     "output_type": "execute_result"
    }
   ],
   "source": [
    "# Removing a key-val\n",
    "\n",
    "student.pop(\"Age\")"
   ]
  },
  {
   "cell_type": "code",
   "execution_count": 17,
   "id": "8ddd6336",
   "metadata": {},
   "outputs": [
    {
     "data": {
      "text/plain": [
       "{(1, 2): 'At'}"
      ]
     },
     "execution_count": 17,
     "metadata": {},
     "output_type": "execute_result"
    }
   ],
   "source": [
    "# to check if key exist\n",
    "\n",
    "if \"name\" in my_dict:\n",
    "    print(\"Key exists\")"
   ]
  },
  {
   "cell_type": "code",
   "execution_count": 76,
   "id": "0209f08c",
   "metadata": {},
   "outputs": [
    {
     "name": "stdout",
     "output_type": "stream",
     "text": [
      "First Dict {'Univeristy': 'xyz', 'Age': (25, 30), 'grade': 'A'}\n",
      "Univeristy xyz\n",
      "Age (25, 30)\n",
      "grade A\n",
      "Sec Dict {'Univeristy': 'xyz', 'Age': 35, 'grade': 'A'}\n",
      "Univeristy xyz\n",
      "Age 35\n",
      "grade A\n"
     ]
    }
   ],
   "source": [
    "# Itrate over key\n",
    "i=0\n",
    "for key, val in student.items():\n",
    "    print(key, val)\n",
    "    for key2, val2 in val.items():\n",
    "        print(key2, val2)\n",
    "        \n"
   ]
  },
  {
   "cell_type": "markdown",
   "id": "054f638e",
   "metadata": {},
   "source": [
    "## Inventory management system\n",
    "\n",
    "### Add a new item to the inventory./\n",
    "### Remove an item from the inventory by its name./\n",
    "### Update the quantity of an item by its name./\n",
    "### Find an item by its name and display its details (name, quantity, price)./\n",
    "### Display all items in the inventory./\n",
    "### Calculate the total value of the inventory (sum of price * quantity for each item).\n"
   ]
  },
  {
   "cell_type": "code",
   "execution_count": null,
   "id": "f98fc115-62c3-4804-aedb-f18994289133",
   "metadata": {},
   "outputs": [],
   "source": []
  }
 ],
 "metadata": {
  "kernelspec": {
   "display_name": "Python 3 (ipykernel)",
   "language": "python",
   "name": "python3"
  },
  "language_info": {
   "codemirror_mode": {
    "name": "ipython",
    "version": 3
   },
   "file_extension": ".py",
   "mimetype": "text/x-python",
   "name": "python",
   "nbconvert_exporter": "python",
   "pygments_lexer": "ipython3",
   "version": "3.11.7"
  }
 },
 "nbformat": 4,
 "nbformat_minor": 5
}
