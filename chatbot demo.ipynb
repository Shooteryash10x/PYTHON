{
 "cells": [
  {
   "cell_type": "code",
   "execution_count": 1,
   "id": "de06145b-ca0b-4532-9bdd-ef4c6dc258de",
   "metadata": {},
   "outputs": [
    {
     "name": "stdout",
     "output_type": "stream",
     "text": [
      "mygirl: Hello! Type 'bye' to end the conversation.\n"
     ]
    },
    {
     "name": "stdin",
     "output_type": "stream",
     "text": [
      "shooter:  hello\n"
     ]
    },
    {
     "name": "stdout",
     "output_type": "stream",
     "text": [
      "mygirl: Hi!\n"
     ]
    },
    {
     "name": "stdin",
     "output_type": "stream",
     "text": [
      "shooter:  how are you?\n"
     ]
    },
    {
     "name": "stdout",
     "output_type": "stream",
     "text": [
      "mygirl: I am doing great!\n"
     ]
    },
    {
     "name": "stdin",
     "output_type": "stream",
     "text": [
      "shooter:  bye\n"
     ]
    },
    {
     "name": "stdout",
     "output_type": "stream",
     "text": [
      "mygirl:bbye!\n"
     ]
    }
   ],
   "source": [
    "import random\n",
    "\n",
    "responses = {\n",
    "    'hello': ['Hi!', 'Hello beauty!', 'Hey!'],\n",
    "    'how are you?': ['I am fine, thank you!', 'I am doing great!', 'I am good, how about you?'],\n",
    "    'bye': ['bbye!', 'See you later!', 'Bye!'],\n",
    "}\n",
    "\n",
    "def mygirl_response(user_input):\n",
    "    user_input = user_input.lower()\n",
    "    if user_input in responses:\n",
    "        return random.choice(responses[user_input])\n",
    "    else:\n",
    "        return \"Sorry, I didn't understand that.\"\n",
    "\n",
    "print(\"mygirl: Hello! Type 'bye' to end the conversation.\")\n",
    "while True:\n",
    "    user_input = input(\"shooter: \")\n",
    "    if user_input.lower() == 'bye':\n",
    "        print(\"mygirl:bbye!\")\n",
    "        break\n",
    "    print(f\"mygirl: {mygirl_response(user_input)}\")\n"
   ]
  },
  {
   "cell_type": "code",
   "execution_count": null,
   "id": "e72a63a5-56d7-45cb-9a1c-5400e66df20d",
   "metadata": {},
   "outputs": [],
   "source": []
  }
 ],
 "metadata": {
  "kernelspec": {
   "display_name": "Python 3 (ipykernel)",
   "language": "python",
   "name": "python3"
  },
  "language_info": {
   "codemirror_mode": {
    "name": "ipython",
    "version": 3
   },
   "file_extension": ".py",
   "mimetype": "text/x-python",
   "name": "python",
   "nbconvert_exporter": "python",
   "pygments_lexer": "ipython3",
   "version": "3.11.7"
  }
 },
 "nbformat": 4,
 "nbformat_minor": 5
}
