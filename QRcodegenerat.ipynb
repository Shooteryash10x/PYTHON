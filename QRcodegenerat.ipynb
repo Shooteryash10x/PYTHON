{
  "nbformat": 4,
  "nbformat_minor": 0,
  "metadata": {
    "colab": {
      "provenance": []
    },
    "kernelspec": {
      "name": "python3",
      "display_name": "Python 3"
    },
    "language_info": {
      "name": "python"
    }
  },
  "cells": [
    {
      "cell_type": "code",
      "execution_count": null,
      "metadata": {
        "colab": {
          "base_uri": "https://localhost:8080/"
        },
        "id": "hLuxAoQZnm_M",
        "outputId": "3666395f-ffe8-4092-a760-343b8a998118"
      },
      "outputs": [
        {
          "output_type": "stream",
          "name": "stdout",
          "text": [
            "Collecting qrcode\n",
            "  Downloading qrcode-8.1-py3-none-any.whl.metadata (17 kB)\n",
            "Downloading qrcode-8.1-py3-none-any.whl (45 kB)\n",
            "\u001b[2K   \u001b[90m━━━━━━━━━━━━━━━━━━━━━━━━━━━━━━━━━━━━━━━━\u001b[0m \u001b[32m45.7/45.7 kB\u001b[0m \u001b[31m1.9 MB/s\u001b[0m eta \u001b[36m0:00:00\u001b[0m\n",
            "\u001b[?25hInstalling collected packages: qrcode\n",
            "Successfully installed qrcode-8.1\n"
          ]
        }
      ],
      "source": [
        "!pip install qrcode"
      ]
    },
    {
      "cell_type": "code",
      "source": [
        "import qrcode"
      ],
      "metadata": {
        "id": "YMk3wjQsoaMX"
      },
      "execution_count": null,
      "outputs": []
    },
    {
      "cell_type": "code",
      "source": [
        "data=\"yash vardhan\""
      ],
      "metadata": {
        "id": "y4hVt0y3s2UO"
      },
      "execution_count": null,
      "outputs": []
    },
    {
      "cell_type": "code",
      "source": [
        "qr=qrcode.make(data)"
      ],
      "metadata": {
        "id": "ef64iOk9qbiT"
      },
      "execution_count": null,
      "outputs": []
    },
    {
      "cell_type": "code",
      "source": [
        "qr.save(\"qrcode.png\")"
      ],
      "metadata": {
        "id": "yLki2AQRq3q2"
      },
      "execution_count": null,
      "outputs": []
    },
    {
      "cell_type": "code",
      "source": [
        "print(\"qrcode generated\")"
      ],
      "metadata": {
        "colab": {
          "base_uri": "https://localhost:8080/"
        },
        "id": "15XNHntyrGSw",
        "outputId": "5a9a8731-44f7-488d-8524-99a8f4532801"
      },
      "execution_count": null,
      "outputs": [
        {
          "output_type": "stream",
          "name": "stdout",
          "text": [
            "qrcode generated\n"
          ]
        }
      ]
    },
    {
      "cell_type": "code",
      "source": [],
      "metadata": {
        "id": "r0H_8w0WsUYn"
      },
      "execution_count": null,
      "outputs": []
    }
  ]
}